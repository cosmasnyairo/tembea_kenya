{
 "cells": [
  {
   "cell_type": "code",
   "execution_count": 1,
   "metadata": {},
   "outputs": [],
   "source": [
    "import requests\n",
    "from bs4 import BeautifulSoup\n",
    "import pandas"
   ]
  },
  {
   "cell_type": "code",
   "execution_count": 2,
   "metadata": {},
   "outputs": [],
   "source": [
    "#headers to allow it to work on sites that don't 'like' scripts\n",
    "headers = {'User-Agent': 'Mozilla/5.0 (X11; Linux x86_64) AppleWebKit/537.36 (KHTML, like Gecko) Chrome/47.0.2526.106 Safari/537.36'}\n",
    "base_url='https://www.google.com/travel/things-to-do/see-all?g2lb=2502548%2C4258168%2C4260007%2C4270442%2C4274032%2C4291318%2C4305595%2C4306835%2C4308216%2C4308226%2C4317915%2C4326765%2C4328159%2C4329288%2C4330113%2C4333265%2C4356223%2C4357967%2C4363568%2C4364231%2C4366684%2C4366858%2C4369397%2C4371630%2C4270859%2C4284970%2C4291517%2C4316256%2C4356900&hl=en&gl=ke&un=1&otf=1&dest_mid=%2Fm%2F019rg5&dest_state_type=sattd&tcfs=EgsKCS9tLzAxOXJnNQ&sa=X&utm_campaign=sharing&utm_medium=link&utm_source=htls#ttdm=-2.624816_33.328604_6&ttdmf=%252Fm%252F06jcjh'\n",
    "base_wikipedia_url = 'https://en.wikipedia.org/wiki/'"
   ]
  },
  {
   "cell_type": "code",
   "execution_count": 3,
   "metadata": {},
   "outputs": [],
   "source": [
    "#send request and get content\n",
    "r=requests.get(base_url,headers=headers)\n",
    "c=r.content\n",
    "soup=BeautifulSoup(c, 'html.parser')"
   ]
  },
  {
   "cell_type": "code",
   "execution_count": 4,
   "metadata": {},
   "outputs": [],
   "source": [
    "#fetch data from the content\n",
    "pagecontent=soup.find_all('div', {'class':'Ld2paf'})"
   ]
  },
  {
   "cell_type": "code",
   "execution_count": 5,
   "metadata": {},
   "outputs": [],
   "source": [
    "data=[]\n",
    "for a in pagecontent:\n",
    "    entry={}\n",
    "    #place title\n",
    "    try:\n",
    "        title = a.find_all('div',{'class': 'skFvHc YmWhbc'})[0].text\n",
    "        entry['Title'] = title\n",
    "    except:\n",
    "        entry['Title'] = None\n",
    "    #place ratings\n",
    "    try:\n",
    "        r = a.find_all('span',{'class': 'KFi5wf'})[0].text\n",
    "        entry['Rating'] = r       \n",
    "    except:\n",
    "        entry['Rating'] = None\n",
    "    #number of place reviews\n",
    "    try:\n",
    "        reviews = a.find_all('span',{'class': 'jdzyld'})[0].text\n",
    "        entry['Reviews'] =  reviews.strip().replace(\"(\",'').replace(\")\",'')\n",
    "    except:\n",
    "        entry['Reviews'] = None\n",
    "    #brief descriptions\n",
    "    try:\n",
    "        brief_description = a.find_all('div' , {'class':'nFoFM'})[0].text\n",
    "        entry['Brief_Description'] =  brief_description\n",
    "    except:\n",
    "        entry['Brief_Description'] =  None\n",
    "    #mail image url\n",
    "    try:\n",
    "        img_url = a.find_all('img', {'class':\"R1Ybne YH2pd\"})[0]['data-src']\n",
    "        entry['Image_Url'] = img_url\n",
    "    except:\n",
    "        entry['Image_Url'] = None\n",
    "        \n",
    "    try:\n",
    "        wikipedia_url= base_wikipedia_url+ entry['Title'].replace(\" \",'_')\n",
    "        entry['WikipediaLink'] = wikipedia_url\n",
    "    except:\n",
    "        entry['WikipediaLink']=None\n",
    "    data.append(entry)"
   ]
  },
  {
   "cell_type": "code",
   "execution_count": 7,
   "metadata": {},
   "outputs": [],
   "source": [
    "df=pandas.DataFrame(data)\n",
    "df.to_csv('travel_data.csv')"
   ]
  }
 ],
 "metadata": {
  "kernelspec": {
   "display_name": "Python 3",
   "language": "python",
   "name": "python3"
  },
  "language_info": {
   "codemirror_mode": {
    "name": "ipython",
    "version": 3
   },
   "file_extension": ".py",
   "mimetype": "text/x-python",
   "name": "python",
   "nbconvert_exporter": "python",
   "pygments_lexer": "ipython3",
   "version": "3.8.2"
  }
 },
 "nbformat": 4,
 "nbformat_minor": 4
}
